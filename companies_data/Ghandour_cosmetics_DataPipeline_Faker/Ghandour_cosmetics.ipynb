{
 "cells": [
  {
   "cell_type": "code",
   "execution_count": 3,
   "metadata": {},
   "outputs": [],
   "source": [
    "from faker import Faker\n",
    "import pandas as pd\n",
    "import random\n",
    " "
   ]
  },
  {
   "cell_type": "code",
   "execution_count": 6,
   "metadata": {},
   "outputs": [],
   "source": [
    "fake = Faker('tw_GH')\n",
    " \n",
    "# Generate 100,000 records\n",
    "records = []\n",
    "for _ in range(100000):\n",
    "    individual = {\n",
    "        'customer_name': fake.name(),\n",
    "        'address': fake.address(),\n",
    "        'email': fake.email(),\n",
    "        'telephone': fake.phone_number(),\n",
    "        'country': 'Ghana',\n",
    "        'contact_preference': random.choice(['SMS', 'Email', 'Call']),\n",
    "\n",
    "        # Example transaction activity\n",
    "        'transaction_activity': fake.random_int(min=0, max=100),\n",
    "        'customer_preference': random.choice(['App', 'Website']),\n",
    "\n",
    "        # Default communication method\n",
    "        'communication_method': random.choice(['SMS', 'Email', 'Call'])\n",
    "    }\n",
    " \n",
    "    records.append(individual)\n",
    " \n",
    "\n"
   ]
  },
  {
   "cell_type": "code",
   "execution_count": 7,
   "metadata": {},
   "outputs": [
    {
     "data": {
      "text/html": [
       "<div>\n",
       "<style scoped>\n",
       "    .dataframe tbody tr th:only-of-type {\n",
       "        vertical-align: middle;\n",
       "    }\n",
       "\n",
       "    .dataframe tbody tr th {\n",
       "        vertical-align: top;\n",
       "    }\n",
       "\n",
       "    .dataframe thead th {\n",
       "        text-align: right;\n",
       "    }\n",
       "</style>\n",
       "<table border=\"1\" class=\"dataframe\">\n",
       "  <thead>\n",
       "    <tr style=\"text-align: right;\">\n",
       "      <th></th>\n",
       "      <th>customer_name</th>\n",
       "      <th>address</th>\n",
       "      <th>email</th>\n",
       "      <th>telephone</th>\n",
       "      <th>country</th>\n",
       "      <th>contact_preference</th>\n",
       "      <th>transaction_activity</th>\n",
       "      <th>customer_preference</th>\n",
       "      <th>communication_method</th>\n",
       "    </tr>\n",
       "  </thead>\n",
       "  <tbody>\n",
       "    <tr>\n",
       "      <th>0</th>\n",
       "      <td>Afua Akyeampong</td>\n",
       "      <td>084 Barbara Square Suite 805\\nOtiwatown, ID 42867</td>\n",
       "      <td>kate95@example.org</td>\n",
       "      <td>+233246812675</td>\n",
       "      <td>Ghana</td>\n",
       "      <td>SMS</td>\n",
       "      <td>44</td>\n",
       "      <td>App</td>\n",
       "      <td>Email</td>\n",
       "    </tr>\n",
       "    <tr>\n",
       "      <th>1</th>\n",
       "      <td>Frederick Daako</td>\n",
       "      <td>83718 Danso Crossroad\\nWest Gregoryside, SC 52580</td>\n",
       "      <td>koomsoncomfort@example.com</td>\n",
       "      <td>+233540829327</td>\n",
       "      <td>Ghana</td>\n",
       "      <td>Call</td>\n",
       "      <td>7</td>\n",
       "      <td>App</td>\n",
       "      <td>SMS</td>\n",
       "    </tr>\n",
       "    <tr>\n",
       "      <th>2</th>\n",
       "      <td>Kwadwo Akyerεko</td>\n",
       "      <td>02139 Sam Tunnel Suite 231\\nAlexanderstad, DE ...</td>\n",
       "      <td>rachael41@example.com</td>\n",
       "      <td>+233271961438</td>\n",
       "      <td>Ghana</td>\n",
       "      <td>Email</td>\n",
       "      <td>21</td>\n",
       "      <td>Website</td>\n",
       "      <td>Call</td>\n",
       "    </tr>\n",
       "    <tr>\n",
       "      <th>3</th>\n",
       "      <td>Agya Sam Ampadu</td>\n",
       "      <td>081 Abigail Manor Suite 562\\nNorth Ama, GA 86899</td>\n",
       "      <td>okyerevincent@example.net</td>\n",
       "      <td>+233275991655</td>\n",
       "      <td>Ghana</td>\n",
       "      <td>SMS</td>\n",
       "      <td>44</td>\n",
       "      <td>App</td>\n",
       "      <td>Email</td>\n",
       "    </tr>\n",
       "    <tr>\n",
       "      <th>4</th>\n",
       "      <td>Danielle Boakye</td>\n",
       "      <td>538 Boatemaa Brook\\nNew Marilyn, NM 80992</td>\n",
       "      <td>sharon12@example.com</td>\n",
       "      <td>+233543167454</td>\n",
       "      <td>Ghana</td>\n",
       "      <td>Call</td>\n",
       "      <td>40</td>\n",
       "      <td>Website</td>\n",
       "      <td>SMS</td>\n",
       "    </tr>\n",
       "  </tbody>\n",
       "</table>\n",
       "</div>"
      ],
      "text/plain": [
       "     customer_name                                            address  \\\n",
       "0  Afua Akyeampong  084 Barbara Square Suite 805\\nOtiwatown, ID 42867   \n",
       "1  Frederick Daako  83718 Danso Crossroad\\nWest Gregoryside, SC 52580   \n",
       "2  Kwadwo Akyerεko  02139 Sam Tunnel Suite 231\\nAlexanderstad, DE ...   \n",
       "3  Agya Sam Ampadu   081 Abigail Manor Suite 562\\nNorth Ama, GA 86899   \n",
       "4  Danielle Boakye          538 Boatemaa Brook\\nNew Marilyn, NM 80992   \n",
       "\n",
       "                        email      telephone country contact_preference  \\\n",
       "0          kate95@example.org  +233246812675   Ghana                SMS   \n",
       "1  koomsoncomfort@example.com  +233540829327   Ghana               Call   \n",
       "2       rachael41@example.com  +233271961438   Ghana              Email   \n",
       "3   okyerevincent@example.net  +233275991655   Ghana                SMS   \n",
       "4        sharon12@example.com  +233543167454   Ghana               Call   \n",
       "\n",
       "   transaction_activity customer_preference communication_method  \n",
       "0                    44                 App                Email  \n",
       "1                     7                 App                  SMS  \n",
       "2                    21             Website                 Call  \n",
       "3                    44                 App                Email  \n",
       "4                    40             Website                  SMS  "
      ]
     },
     "execution_count": 7,
     "metadata": {},
     "output_type": "execute_result"
    }
   ],
   "source": [
    "data = pd.DataFrame(records)\n",
    "data.head()"
   ]
  },
  {
   "cell_type": "code",
   "execution_count": 8,
   "metadata": {},
   "outputs": [
    {
     "name": "stdout",
     "output_type": "stream",
     "text": [
      "100000\n"
     ]
    }
   ],
   "source": [
    "print(len(data))"
   ]
  },
  {
   "cell_type": "code",
   "execution_count": 9,
   "metadata": {},
   "outputs": [],
   "source": [
    "# save the data\n",
    "Ghandour_cosmetics_fakedata = data.to_csv('Ghandour_cosmetics.csv', index = False)"
   ]
  },
  {
   "cell_type": "code",
   "execution_count": null,
   "metadata": {},
   "outputs": [],
   "source": []
  }
 ],
 "metadata": {
  "kernelspec": {
   "display_name": "base",
   "language": "python",
   "name": "python3"
  },
  "language_info": {
   "codemirror_mode": {
    "name": "ipython",
    "version": 3
   },
   "file_extension": ".py",
   "mimetype": "text/x-python",
   "name": "python",
   "nbconvert_exporter": "python",
   "pygments_lexer": "ipython3",
   "version": "3.11.5"
  }
 },
 "nbformat": 4,
 "nbformat_minor": 2
}
